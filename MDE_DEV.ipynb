{
 "cells": [
  {
   "cell_type": "code",
   "execution_count": 0,
   "metadata": {
    "application/vnd.databricks.v1+cell": {
     "cellMetadata": {},
     "inputWidgets": {},
     "nuid": "5e71905d-ff6d-4f67-8fdf-6f3941f26420",
     "showTitle": false,
     "tableResultSettingsMap": {},
     "title": ""
    }
   },
   "outputs": [],
   "source": [
    "#Conduct testing of one url to grab, and combine into \"Bronze\" Layer\n",
    "testUrl=''  #input one test url to grab base schema\n",
    "\n",
    "\n",
    "res = requests.get(testUrl)\n",
    "\n",
    "# Save the content to a temporary file\n",
    "with tempfile.NamedTemporaryFile(delete=False, suffix=\".xml\") as temp_file:\n",
    "    temp_file.write(res.content)\n",
    "    temp_file_path = temp_file.name\n",
    "\n",
    "# Move the temporary file to DBFS\n",
    "dbfs_path = f\"/dbfs/tmp/{temp_file.name.split('/')[-1]}\"\n",
    "shutil.move(temp_file_path, dbfs_path)\n",
    "\n",
    "# Load the XML file from DBFS\n",
    "df = (spark.read\n",
    "      .format('xml')\n",
    "      .options(rowTag='ClinicalDocument')\n",
    "      .option('excludeAttribute', 'true')  # Exclude attributes to avoid column name conflicts\n",
    "      .load(f\"dbfs:/tmp/{temp_file.name.split('/')[-1]}\"))\n",
    "\n",
    "# Rename the conflicting column if necessary\n",
    "df = df.withColumnRenamed('_value', '_value_renamed')\n",
    "\n",
    "display(df)\n",
    "\n",
    "\n",
    "inferred_schema = df.schema\n",
    "print(inferred_schema.json())\n",
    "\n",
    "# Saving the schema\n",
    "dbutils.fs.put(\"/path/to/schema.json\", inferred_schema.json())\n",
    "\n",
    "# Loading the schema\n",
    "schema_path = \"/path/to/schema.json\"\n",
    "inferred_schema = StructType.fromJson(json.loads(dbutils.fs.head(schema_path)))\n",
    "\n",
    "# Reading the XML file with the enforced schema\n",
    "#df_with_schema = spark.read.format(\"xml\").option(\"rowTag\", \"ClinicalDocument\").schema(inferred_schema).load(\"/path/to/xmlfile\")"
   ]
  }
 ],
 "metadata": {
  "application/vnd.databricks.v1+notebook": {
   "computePreferences": null,
   "dashboards": [],
   "environmentMetadata": {
    "base_environment": "",
    "client": "2"
   },
   "language": "python",
   "notebookMetadata": {
    "pythonIndentUnit": 4
   },
   "notebookName": "MDE_DEV",
   "widgets": {}
  },
  "language_info": {
   "name": "python"
  }
 },
 "nbformat": 4,
 "nbformat_minor": 0
}