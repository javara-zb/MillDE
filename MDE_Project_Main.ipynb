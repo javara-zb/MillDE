{
 "cells": [
  {
   "cell_type": "code",
   "execution_count": 0,
   "metadata": {
    "application/vnd.databricks.v1+cell": {
     "cellMetadata": {
      "byteLimit": 2048000,
      "rowLimit": 10000
     },
     "inputWidgets": {},
     "nuid": "ae6f5a9e-248b-4ee7-aeff-e228c9b48fab",
     "showTitle": false,
     "tableResultSettingsMap": {},
     "title": ""
    }
   },
   "outputs": [],
   "source": [
    "import requests \n",
    "import tempfile\n",
    "import shutil\n",
    "import json\n",
    "from pyspark.sql.types import StructType\n",
    "from pyspark.sql.functions import lit\n"
   ]
  },
  {
   "cell_type": "markdown",
   "metadata": {
    "application/vnd.databricks.v1+cell": {
     "cellMetadata": {
      "byteLimit": 2048000,
      "rowLimit": 10000
     },
     "inputWidgets": {},
     "nuid": "4b37ce3a-aca0-49f5-89ff-fee34c8d6ebc",
     "showTitle": false,
     "tableResultSettingsMap": {},
     "title": ""
    }
   },
   "source": [
    "#Steps to complete\n",
    "1. Download all neccessary Files\n",
    "- Complete\n",
    "2. Analyze and parse content into respective domains (Medications and Problems)\n",
    "- Complete\n",
    "3. Combine Clinical Data with other supplied data \n",
    "- Complete\n",
    "4. Store the output (parquet, delta, csv) \n",
    "- Complete\n",
    "5. Describe Pipeline\n",
    "- In Email\n",
    "6. Any additional Details\n",
    "- In Email\n",
    "7. Describe this feed into a common Data Model Format for consumption into Data Warehouse / Lakehouse with focus on HL7/Fhir\n",
    "- In Email\n"
   ]
  },
  {
   "cell_type": "markdown",
   "metadata": {
    "application/vnd.databricks.v1+cell": {
     "cellMetadata": {
      "byteLimit": 2048000,
      "rowLimit": 10000
     },
     "inputWidgets": {},
     "nuid": "64d6f61e-a27d-41a9-a0dc-77449e3f8a97",
     "showTitle": false,
     "tableResultSettingsMap": {},
     "title": ""
    }
   },
   "source": [
    "#**Drop ref files into dbfs or volumes**\n",
    "/FileStore/tables/MDE/{fileName}\n",
    " Need an unrestricted cluster to interact with DBFS"
   ]
  },
  {
   "cell_type": "code",
   "execution_count": 0,
   "metadata": {
    "application/vnd.databricks.v1+cell": {
     "cellMetadata": {
      "byteLimit": 2048000,
      "rowLimit": 10000
     },
     "inputWidgets": {},
     "nuid": "e2708e03-95d9-42de-9540-ff9acd568bf6",
     "showTitle": false,
     "tableResultSettingsMap": {},
     "title": ""
    }
   },
   "outputs": [],
   "source": [
    "#Filenames\n",
    "fileNames = [\"ccda_pre_signed_urls2.csv\", \"data_engineer_exam_claims_final.csv\", \"data_engineer_exam_rx_final.csv\", \"icd.csv\"]"
   ]
  },
  {
   "cell_type": "code",
   "execution_count": 0,
   "metadata": {
    "application/vnd.databricks.v1+cell": {
     "cellMetadata": {
      "byteLimit": 2048000,
      "rowLimit": 10000
     },
     "inputWidgets": {},
     "nuid": "12f0823f-d388-4164-be12-8e3486f39e60",
     "showTitle": false,
     "tableResultSettingsMap": {},
     "title": ""
    }
   },
   "outputs": [],
   "source": [
    "%run ./MDE_INIT_"
   ]
  },
  {
   "cell_type": "code",
   "execution_count": 0,
   "metadata": {
    "application/vnd.databricks.v1+cell": {
     "cellMetadata": {
      "byteLimit": 2048000,
      "rowLimit": 10000
     },
     "inputWidgets": {},
     "nuid": "058758ee-1ae2-45e7-a21d-fef9db56b19b",
     "showTitle": false,
     "tableResultSettingsMap": {},
     "title": ""
    }
   },
   "outputs": [],
   "source": [
    "for file in fileNames:\n",
    "    ingestRefData(file) #into hive metastore as basically as temp tables"
   ]
  },
  {
   "cell_type": "code",
   "execution_count": 0,
   "metadata": {
    "application/vnd.databricks.v1+cell": {
     "cellMetadata": {
      "byteLimit": 2048000,
      "implicitDf": true,
      "rowLimit": 10000
     },
     "inputWidgets": {},
     "nuid": "3b849722-8284-4d3b-9878-6d19b18ad95e",
     "showTitle": false,
     "tableResultSettingsMap": {},
     "title": ""
    }
   },
   "outputs": [],
   "source": [
    "%sql\n",
    "--Review the output in delta format as a temp view. can create static tables from delta temp views if needed\n",
    "--select * from ccda_pre_signed_urls2\n",
    "--select * from data_engineer_exam_claims_final;\n",
    "--select * from data_engineer_exam_rx_final"
   ]
  },
  {
   "cell_type": "markdown",
   "metadata": {
    "application/vnd.databricks.v1+cell": {
     "cellMetadata": {
      "byteLimit": 2048000,
      "rowLimit": 10000
     },
     "inputWidgets": {},
     "nuid": "60bbbec6-b034-41ef-977c-5d50b2e37d56",
     "showTitle": false,
     "tableResultSettingsMap": {},
     "title": ""
    }
   },
   "source": [
    "## For pre-signed urls, you can ingest directly from S3 by creating a unity catalog location, but I'll do it with requests here."
   ]
  },
  {
   "cell_type": "code",
   "execution_count": 0,
   "metadata": {
    "application/vnd.databricks.v1+cell": {
     "cellMetadata": {
      "byteLimit": 2048000,
      "rowLimit": 10000
     },
     "inputWidgets": {},
     "nuid": "0ed69dce-2bcf-4a7c-b6bd-2dcb46712357",
     "showTitle": false,
     "tableResultSettingsMap": {},
     "title": ""
    }
   },
   "outputs": [],
   "source": [
    "urlList = spark.sql(\"SELECT pre_signed_urls FROM ccda_pre_signed_urls2\") \\\n",
    "                .select(\"pre_signed_urls\") \\\n",
    "                .rdd \\\n",
    "                .map(lambda row: row.pre_signed_urls) \\\n",
    "                .collect()"
   ]
  },
  {
   "cell_type": "markdown",
   "metadata": {
    "application/vnd.databricks.v1+cell": {
     "cellMetadata": {
      "byteLimit": 2048000,
      "rowLimit": 10000
     },
     "inputWidgets": {},
     "nuid": "cc7af1ab-f1f4-45b8-b79b-89972e0f4ba6",
     "showTitle": false,
     "tableResultSettingsMap": {},
     "title": ""
    }
   },
   "source": [
    "# Parse the resultant XML into a dataframe and pull out the Medications and Problems, and iterate into One Big Table (OBT) or dataframe"
   ]
  },
  {
   "cell_type": "code",
   "execution_count": 0,
   "metadata": {
    "application/vnd.databricks.v1+cell": {
     "cellMetadata": {
      "byteLimit": 2048000,
      "rowLimit": 10000
     },
     "inputWidgets": {},
     "nuid": "14104cc9-37c8-4b8a-8791-71f1c4e802ed",
     "showTitle": false,
     "tableResultSettingsMap": {},
     "title": ""
    }
   },
   "outputs": [],
   "source": [
    "#use ingestion function from INIT\n",
    "IngestClinicalFiles(urlList)"
   ]
  },
  {
   "cell_type": "markdown",
   "metadata": {
    "application/vnd.databricks.v1+cell": {
     "cellMetadata": {},
     "inputWidgets": {},
     "nuid": "0ff1249f-9bd1-49de-bdd2-d2879b9ad01c",
     "showTitle": false,
     "tableResultSettingsMap": {},
     "title": ""
    }
   },
   "source": [
    "## Create a Medications and Problems table parsed out with as much as needed\n",
    "### using dbx sql as en example of using sql to unpack advanced data structures"
   ]
  },
  {
   "cell_type": "code",
   "execution_count": 0,
   "metadata": {
    "application/vnd.databricks.v1+cell": {
     "cellMetadata": {
      "byteLimit": 2048000,
      "implicitDf": true,
      "rowLimit": 10000
     },
     "inputWidgets": {},
     "nuid": "aabdc4ed-f0d4-4dc1-ba0e-27961b34c31f",
     "showTitle": false,
     "tableResultSettingsMap": {},
     "title": ""
    }
   },
   "outputs": [],
   "source": [
    "%sql\n",
    "CREATE OR REPLACE TABLE mde_combined_problems AS\n",
    "SELECT \n",
    "  author.assignedAuthor.assignedAuthoringDevice.softwareName AS softwareName,\n",
    "  recordTarget.patientRole.patient.name.given AS fname,\n",
    "  recordTarget.patientRole.patient.name.family AS lname,\n",
    "    HASH(recordTarget.patientRole.patient.name.given, recordTarget.patientRole.patient.name.family) as MEMBERID,\n",
    "  component.structuredBody.component.section.title[0] AS Problems, -- 5 is medications, usually 0 is problems\n",
    "  component.structuredBody.component.section.text[0] as table_of_Problems,\n",
    "  component.structuredBody.component.section.entry[0] as ProblemArray\n",
    "FROM  mde_combined_xmls\n",
    "WHERE UPPER(component.structuredBody.component.section.title[0]) = 'PROBLEMS'\n",
    "\n",
    "UNION\n",
    "\n",
    "SELECT \n",
    "author.assignedAuthor.assignedAuthoringDevice.softwareName AS softwareName,\n",
    "  recordTarget.patientRole.patient.name.given AS fname,\n",
    "  recordTarget.patientRole.patient.name.family AS lname,\n",
    "    HASH(recordTarget.patientRole.patient.name.given, recordTarget.patientRole.patient.name.family) as MEMBERID,\n",
    "  component.structuredBody.component.section.title[1] AS Problems, -- 5 is medications, usually 0 is problems\n",
    "  component.structuredBody.component.section.text[1] as table_of_Problems,\n",
    "  component.structuredBody.component.section.entry[1] as ProblemArray\n",
    "FROM  mde_combined_xmls\n",
    "WHERE UPPER(component.structuredBody.component.section.title[1]) = 'PROBLEMS'\n",
    "\n",
    "UNION\n",
    "\n",
    "SELECT \n",
    "author.assignedAuthor.assignedAuthoringDevice.softwareName AS softwareName,\n",
    "  recordTarget.patientRole.patient.name.given AS fname,\n",
    "  recordTarget.patientRole.patient.name.family AS lname,\n",
    "  HASH(recordTarget.patientRole.patient.name.given, recordTarget.patientRole.patient.name.family) as MEMBERID,\n",
    "  component.structuredBody.component.section.title[2] AS Problems, -- 5 is medications, usually 0 is problems\n",
    "  component.structuredBody.component.section.text[2] as table_of_Problems,\n",
    "  component.structuredBody.component.section.entry[2] as ProblemArray\n",
    "FROM  mde_combined_xmls\n",
    "WHERE UPPER(component.structuredBody.component.section.title[2]) = 'PROBLEMS'\n",
    "\n",
    "UNION\n",
    "\n",
    "SELECT \n",
    "author.assignedAuthor.assignedAuthoringDevice.softwareName AS softwareName,\n",
    "  recordTarget.patientRole.patient.name.given AS fname,\n",
    "  recordTarget.patientRole.patient.name.family AS lname,\n",
    "    HASH(recordTarget.patientRole.patient.name.given, recordTarget.patientRole.patient.name.family) as MEMBERID,\n",
    "  component.structuredBody.component.section.title[3] AS Problems, -- 5 is medications, usually 0 is problems\n",
    "  component.structuredBody.component.section.text[3] as table_of_Problems,\n",
    "  component.structuredBody.component.section.entry[3] as ProblemArray\n",
    "FROM  mde_combined_xmls\n",
    "WHERE UPPER(component.structuredBody.component.section.title[3]) = 'PROBLEMS'\n",
    "UNION\n",
    "\n",
    "SELECT \n",
    "author.assignedAuthor.assignedAuthoringDevice.softwareName AS softwareName,\n",
    "  recordTarget.patientRole.patient.name.given AS fname,\n",
    "  recordTarget.patientRole.patient.name.family AS lname,\n",
    "    HASH(recordTarget.patientRole.patient.name.given, recordTarget.patientRole.patient.name.family) as MEMBERID,\n",
    "  component.structuredBody.component.section.title[4] AS Problems, -- 5 is medications, usually 0 is problems\n",
    "  component.structuredBody.component.section.text[4] as table_of_Problems,\n",
    "  component.structuredBody.component.section.entry[4] as ProblemArray\n",
    "FROM  mde_combined_xmls\n",
    "WHERE UPPER(component.structuredBody.component.section.title[4]) = 'PROBLEMS'\n",
    "\n",
    "UNION\n",
    "\n",
    "SELECT \n",
    "author.assignedAuthor.assignedAuthoringDevice.softwareName AS softwareName,\n",
    "  recordTarget.patientRole.patient.name.given AS fname,\n",
    "  recordTarget.patientRole.patient.name.family AS lname,\n",
    "    HASH(recordTarget.patientRole.patient.name.given, recordTarget.patientRole.patient.name.family) as MEMBERID,\n",
    "  component.structuredBody.component.section.title[5] AS Problems, -- 5 is medications, usually 0 is problems\n",
    "  component.structuredBody.component.section.text[5] as table_of_Problems,\n",
    "  component.structuredBody.component.section.entry[5] as ProblemArray\n",
    "FROM  mde_combined_xmls\n",
    "WHERE UPPER(component.structuredBody.component.section.title[5]) = 'PROBLEMS'"
   ]
  },
  {
   "cell_type": "code",
   "execution_count": 0,
   "metadata": {
    "application/vnd.databricks.v1+cell": {
     "cellMetadata": {
      "byteLimit": 2048000,
      "implicitDf": true,
      "rowLimit": 10000
     },
     "inputWidgets": {},
     "nuid": "5b80b97e-e0f0-46fc-8081-f68b467c525d",
     "showTitle": false,
     "tableResultSettingsMap": {},
     "title": ""
    }
   },
   "outputs": [],
   "source": [
    "%sql\n",
    "Select * from  mde_combined_problems"
   ]
  },
  {
   "cell_type": "code",
   "execution_count": 0,
   "metadata": {
    "application/vnd.databricks.v1+cell": {
     "cellMetadata": {
      "byteLimit": 2048000,
      "implicitDf": true,
      "rowLimit": 10000
     },
     "inputWidgets": {},
     "nuid": "ced63fa2-945c-4dff-8c68-7d8a7abb9213",
     "showTitle": false,
     "tableResultSettingsMap": {},
     "title": ""
    }
   },
   "outputs": [],
   "source": [
    "%sql\n",
    "CREATE\n",
    "OR REPLACE TABLE  mde_combined_medications AS\n",
    "SELECT\n",
    "  author.assignedAuthor.assignedAuthoringDevice.softwareName AS softwareName,\n",
    "  recordTarget.patientRole.patient.name.given AS fname,\n",
    "  recordTarget.patientRole.patient.name.family AS lname,\n",
    "    HASH(recordTarget.patientRole.patient.name.given, recordTarget.patientRole.patient.name.family) as MEMBERID,\n",
    "  component.structuredBody.component.section.title [0] AS Medications,-- 5 is medications\n",
    "  component.structuredBody.component.section.text [0] as table_of_Medications,\n",
    "  component.structuredBody.component.section.entry [0] as Medications_Array\n",
    "FROM\n",
    "   mde_combined_xmls\n",
    "WHERE\n",
    "  UPPER(component.structuredBody.component.section.title [0]) = 'MEDICATIONS'\n",
    "UNION\n",
    "SELECT\n",
    "  author.assignedAuthor.assignedAuthoringDevice.softwareName AS softwareName,\n",
    "  recordTarget.patientRole.patient.name.given AS fname,\n",
    "  recordTarget.patientRole.patient.name.family AS lname,\n",
    "    HASH(recordTarget.patientRole.patient.name.given, recordTarget.patientRole.patient.name.family) as MEMBERID,\n",
    "  component.structuredBody.component.section.title [1] AS Medications,-- 5 is medications\n",
    "  component.structuredBody.component.section.text [1] as table_of_Medications,\n",
    "  component.structuredBody.component.section.entry [1]as Medications_Array\n",
    "FROM\n",
    "   mde_combined_xmls\n",
    "WHERE\n",
    "  UPPER(component.structuredBody.component.section.title [1]) = 'MEDICATIONS'\n",
    "UNION\n",
    "SELECT\n",
    "  author.assignedAuthor.assignedAuthoringDevice.softwareName AS softwareName,\n",
    "  recordTarget.patientRole.patient.name.given AS fname,\n",
    "  recordTarget.patientRole.patient.name.family AS lname,\n",
    "    HASH(recordTarget.patientRole.patient.name.given, recordTarget.patientRole.patient.name.family) as MEMBERID,\n",
    "  component.structuredBody.component.section.title [2] AS Medications,-- 5 is medications\n",
    "  component.structuredBody.component.section.text [2] as table_of_Medications,\n",
    "  component.structuredBody.component.section.entry [2] as Medications_Array\n",
    "FROM\n",
    "   mde_combined_xmls\n",
    "WHERE\n",
    "  UPPER(component.structuredBody.component.section.title [2]) = 'MEDICATIONS'\n",
    "UNION\n",
    "SELECT\n",
    "  author.assignedAuthor.assignedAuthoringDevice.softwareName AS softwareName,\n",
    "  recordTarget.patientRole.patient.name.given AS fname,\n",
    "  recordTarget.patientRole.patient.name.family AS lname,\n",
    "    HASH(recordTarget.patientRole.patient.name.given, recordTarget.patientRole.patient.name.family) as MEMBERID,\n",
    "  component.structuredBody.component.section.title [3] AS Medications,-- 5 is medications\n",
    "  component.structuredBody.component.section.text [3] as table_of_Medications,\n",
    "  component.structuredBody.component.section.entry [3] as Medications_Array\n",
    "FROM\n",
    "   mde_combined_xmls\n",
    "WHERE\n",
    "  UPPER(component.structuredBody.component.section.title [3]) = 'MEDICATIONS'\n",
    "UNION\n",
    "SELECT\n",
    "  author.assignedAuthor.assignedAuthoringDevice.softwareName AS softwareName,\n",
    "  recordTarget.patientRole.patient.name.given AS fname,\n",
    "  recordTarget.patientRole.patient.name.family AS lname,\n",
    "    HASH(recordTarget.patientRole.patient.name.given, recordTarget.patientRole.patient.name.family) as MEMBERID,\n",
    "  component.structuredBody.component.section.title [4] AS Medications,-- 5 is medications\n",
    "  component.structuredBody.component.section.text [4] as table_of_Medications,\n",
    "  component.structuredBody.component.section.entry [4] as Medications_Array\n",
    "FROM\n",
    "   mde_combined_xmls\n",
    "WHERE\n",
    "  UPPER(component.structuredBody.component.section.title [4]) = 'MEDICATIONS'\n",
    "UNION\n",
    "SELECT\n",
    "  author.assignedAuthor.assignedAuthoringDevice.softwareName AS softwareName,\n",
    "  recordTarget.patientRole.patient.name.given AS fname,\n",
    "  recordTarget.patientRole.patient.name.family AS lname,\n",
    "    HASH(recordTarget.patientRole.patient.name.given, recordTarget.patientRole.patient.name.family) as MEMBERID,\n",
    "  component.structuredBody.component.section.title [5] AS Medications,-- 5 is medications\n",
    "  component.structuredBody.component.section.text [5] as table_of_Medications,\n",
    "  component.structuredBody.component.section.entry [5] as Medications_Array\n",
    "FROM\n",
    "   mde_combined_xmls\n",
    "WHERE\n",
    "  UPPER(component.structuredBody.component.section.title [5]) = 'MEDICATIONS'"
   ]
  },
  {
   "cell_type": "code",
   "execution_count": 0,
   "metadata": {
    "application/vnd.databricks.v1+cell": {
     "cellMetadata": {
      "byteLimit": 2048000,
      "implicitDf": true,
      "rowLimit": 10000
     },
     "inputWidgets": {},
     "nuid": "2b5063fb-a1db-464d-a862-00773ea8d7a9",
     "showTitle": false,
     "tableResultSettingsMap": {},
     "title": ""
    }
   },
   "outputs": [],
   "source": [
    "%sql\n",
    "Select * from  mde_combined_medications"
   ]
  },
  {
   "cell_type": "markdown",
   "metadata": {
    "application/vnd.databricks.v1+cell": {
     "cellMetadata": {},
     "inputWidgets": {},
     "nuid": "043bddfa-77c0-4899-b65c-4d710eb00111",
     "showTitle": false,
     "tableResultSettingsMap": {},
     "title": ""
    }
   },
   "source": [
    "# Combined OBT and other ref tables for analysis"
   ]
  },
  {
   "cell_type": "code",
   "execution_count": 0,
   "metadata": {
    "application/vnd.databricks.v1+cell": {
     "cellMetadata": {
      "byteLimit": 2048000,
      "implicitDf": true,
      "rowLimit": 10000
     },
     "inputWidgets": {},
     "nuid": "6f15f5e9-fe20-4d78-b83c-2de8b4501021",
     "showTitle": false,
     "tableResultSettingsMap": {},
     "title": ""
    }
   },
   "outputs": [],
   "source": [
    "%sql\n",
    "\n",
    "select cl.MemberID,rx.MemberID, cl.*, rx.*\n",
    "from data_engineer_exam_claims_final cl \n",
    "left join data_engineer_exam_rx_final rx on cl.MemberID = rx.MemberID\n"
   ]
  },
  {
   "cell_type": "code",
   "execution_count": 0,
   "metadata": {
    "application/vnd.databricks.v1+cell": {
     "cellMetadata": {
      "byteLimit": 2048000,
      "implicitDf": true,
      "rowLimit": 10000
     },
     "inputWidgets": {},
     "nuid": "a18de596-9c51-452b-a522-edfc0fcff8e5",
     "showTitle": false,
     "tableResultSettingsMap": {},
     "title": ""
    }
   },
   "outputs": [],
   "source": [
    "%sql\n",
    "--these claims are one for each filled prescription, so it already is the \"medication list\", but for each member like i did for the problems/icd10 diags\n",
    "\n",
    "select\n",
    "  MemberID,\n",
    "  NDC,\n",
    "  FromDate,\n",
    "  PaidDate\n",
    "from\n",
    "  data_engineer_exam_rx_final"
   ]
  },
  {
   "cell_type": "code",
   "execution_count": 0,
   "metadata": {
    "application/vnd.databricks.v1+cell": {
     "cellMetadata": {
      "byteLimit": 2048000,
      "implicitDf": true,
      "rowLimit": 10000
     },
     "inputWidgets": {},
     "nuid": "0cbb726d-6888-4b28-a45e-3fff2fe197be",
     "showTitle": false,
     "tableResultSettingsMap": {},
     "title": ""
    }
   },
   "outputs": [],
   "source": [
    "%sql\n",
    "with Claims_Problems as (\n",
    "  select\n",
    "    MemberID,\n",
    "    DiagValue,\n",
    "    ICDDiag,\n",
    "    FromDate,\n",
    "    ToDate\n",
    "  from\n",
    "    data_engineer_exam_claims_final\n",
    "      unpivot(\n",
    "        DiagValue for ICDDiag in (\n",
    "          ICDDiag1,\n",
    "          ICDDiag2,\n",
    "          ICDDiag3,\n",
    "          ICDDiag4,\n",
    "          ICDDiag5,\n",
    "          ICDDiag6,\n",
    "          ICDDiag7,\n",
    "          ICDDiag8,\n",
    "          ICDDiag9,\n",
    "          ICDDiag10\n",
    "        )\n",
    "      )\n",
    ")\n",
    "select\n",
    "  a.*,\n",
    "  `icd`.`Column5` as ICDDescription\n",
    "from\n",
    "  Claims_Problems a left join icd on trim(a.DiagValue) = trim(`icd`.`Column2`)"
   ]
  },
  {
   "cell_type": "markdown",
   "metadata": {
    "application/vnd.databricks.v1+cell": {
     "cellMetadata": {},
     "inputWidgets": {},
     "nuid": "0bd6cfdd-8ce8-4a54-ae47-99755db2b3c0",
     "showTitle": false,
     "tableResultSettingsMap": {},
     "title": ""
    }
   },
   "source": [
    "# Store the result of the ingestion"
   ]
  },
  {
   "cell_type": "code",
   "execution_count": 0,
   "metadata": {
    "application/vnd.databricks.v1+cell": {
     "cellMetadata": {},
     "inputWidgets": {},
     "nuid": "255cbc92-0d05-4016-8ae4-f157a52b116f",
     "showTitle": false,
     "tableResultSettingsMap": {},
     "title": ""
    }
   },
   "outputs": [],
   "source": [
    "##Last step\n"
   ]
  },
  {
   "cell_type": "markdown",
   "metadata": {
    "application/vnd.databricks.v1+cell": {
     "cellMetadata": {},
     "inputWidgets": {},
     "nuid": "c1744fa3-d3e4-4911-b022-83bf6a2b4a96",
     "showTitle": false,
     "tableResultSettingsMap": {},
     "title": ""
    }
   },
   "source": [
    "# Write _INIT_ using the above\n",
    "- Complete"
   ]
  },
  {
   "cell_type": "markdown",
   "metadata": {
    "application/vnd.databricks.v1+cell": {
     "cellMetadata": {},
     "inputWidgets": {},
     "nuid": "80c77af6-ef91-46d3-a333-0272d1d5e978",
     "showTitle": false,
     "tableResultSettingsMap": {},
     "title": ""
    }
   },
   "source": [
    "# Write tests for functions used in the processing\n",
    "- Complete\n",
    "# Write validation and QA steps into pipeline\n",
    "- Unknown what validation and QA is necessary, need to know more about the scope and intention of the pipeline"
   ]
  },
  {
   "cell_type": "markdown",
   "metadata": {
    "application/vnd.databricks.v1+cell": {
     "cellMetadata": {},
     "inputWidgets": {},
     "nuid": "ff04c01f-f961-4d94-a182-bb248a3bb728",
     "showTitle": false,
     "tableResultSettingsMap": {},
     "title": ""
    }
   },
   "source": [
    "# Document and describe pipeline requirements for orchestration\n",
    "- Not for this demonstration"
   ]
  },
  {
   "cell_type": "markdown",
   "metadata": {
    "application/vnd.databricks.v1+cell": {
     "cellMetadata": {},
     "inputWidgets": {},
     "nuid": "8843b3b6-c1d0-4e0c-94fa-e8555362daf0",
     "showTitle": false,
     "tableResultSettingsMap": {},
     "title": ""
    }
   },
   "source": [
    "# Set up orchestration\n",
    "- Not for this demonstration"
   ]
  },
  {
   "cell_type": "markdown",
   "metadata": {
    "application/vnd.databricks.v1+cell": {
     "cellMetadata": {},
     "inputWidgets": {},
     "nuid": "7defc4fa-4bc3-4b7f-91c3-a1485045c6a5",
     "showTitle": false,
     "tableResultSettingsMap": {},
     "title": ""
    }
   },
   "source": [
    "# Set notifications and logging\n",
    "- Not for this demonstration"
   ]
  },
  {
   "cell_type": "markdown",
   "metadata": {
    "application/vnd.databricks.v1+cell": {
     "cellMetadata": {},
     "inputWidgets": {},
     "nuid": "20342ec6-da92-416d-a321-986f476fd6dc",
     "showTitle": false,
     "tableResultSettingsMap": {},
     "title": ""
    }
   },
   "source": [
    "# Notes\n",
    "## I'd prefer to pull the fhir data in json, its much easier to parse for me than xml\n",
    "**Patient\thttps://fhir.athena.io/StructureDefinition/ah-patient**\n",
    "Practitioner\thttps://fhir.athena.io/StructureDefinition/ah-practitioner\n",
    "Procedure\thttps://fhir.athena.io/StructureDefinition/ah-procedure\n",
    "AllergyIntolerance\thttps://fhir.athena.io/StructureDefinition/ah-allergyintolerance\n",
    "Immunization\thttps://fhir.athena.io/StructureDefinition/ah-immunization\n",
    "Condition\thttps://fhir.athena.io/StructureDefinition/ah-condition\n",
    "Provenance\thttps://fhir.athena.io/StructureDefinition/ah-provenance\n",
    "**Medication\thttps://fhir.athena.io/StructureDefinition/ah-medication**\n",
    "Observation\thttps://fhir.athena.io/StructureDefinition/ah-observation\n",
    "MedicationRequest\thttps://fhir.athena.io/StructureDefinition/ah-medicationrequest\n",
    "Encounter\thttps://fhir.athena.io/StructureDefinition/ah-encounter\n",
    "CarePlan\thttps://fhir.athena.io/StructureDefinition/ah-careplan\n",
    "AllergyIntolerance\thttps://fhir.athena.io/StructureDefinition/ah-allergyintolerance\n",
    "DiagnosticReport\thttps://fhir.athena.io/StructureDefinition/ah-diagnosticreport\n",
    "Goal\thttps://fhir.athena.io/StructureDefinition/ah-goal"
   ]
  }
 ],
 "metadata": {
  "application/vnd.databricks.v1+notebook": {
   "computePreferences": null,
   "dashboards": [],
   "environmentMetadata": {
    "base_environment": "",
    "client": "2"
   },
   "language": "python",
   "notebookMetadata": {
    "mostRecentlyExecutedCommandWithImplicitDF": {
     "commandId": 8587735846348973,
     "dataframes": [
      "_sqldf"
     ]
    },
    "pythonIndentUnit": 4
   },
   "notebookName": "MDE_Project_Main",
   "widgets": {}
  },
  "language_info": {
   "name": "python"
  }
 },
 "nbformat": 4,
 "nbformat_minor": 0
}